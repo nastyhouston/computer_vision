{
  "cells": [
    {
      "cell_type": "markdown",
      "metadata": {
        "id": "idiHsiBQJzB1"
      },
      "source": [
        "Домашняя работа по теме \"Сегментация и детекция объектов\""
      ]
    },
    {
      "cell_type": "code",
      "execution_count": 1,
      "metadata": {
        "collapsed": true,
        "id": "bmDrLRD0JzB5"
      },
      "outputs": [],
      "source": [
        "%matplotlib inline\n",
        "import cv2\n",
        "import numpy as np\n",
        "import matplotlib.pyplot as plt"
      ]
    },
    {
      "cell_type": "markdown",
      "metadata": {
        "id": "nVTZqUdUJzB8"
      },
      "source": [
        "## Загружаем исходные данные"
      ]
    },
    {
      "cell_type": "code",
      "execution_count": 2,
      "metadata": {
        "collapsed": true,
        "id": "tZS3Y7rwJzB9"
      },
      "outputs": [],
      "source": [
        "train = np.loadtxt('train.csv', delimiter=',', skiprows=1)\n",
        "test = np.loadtxt('test.csv', delimiter=',', skiprows=1)"
      ]
    },
    {
      "cell_type": "code",
      "execution_count": 3,
      "metadata": {
        "collapsed": true,
        "id": "Y15b9upGJzB-"
      },
      "outputs": [],
      "source": [
        "# сохраняем разметку в отдельную переменную\n",
        "train_label = train[:, 0]\n",
        "# приводим размерность к удобному для обаботки виду\n",
        "train_img = np.resize(train[:, 1:], (train.shape[0], 28, 28))\n",
        "test_img = np.resize(test, (test.shape[0], 28, 28))"
      ]
    },
    {
      "cell_type": "code",
      "execution_count": 4,
      "metadata": {
        "id": "sInchcOrJzB_",
        "outputId": "ff9f8747-a8c3-4d46-9fa2-0d1b95203461",
        "colab": {
          "base_uri": "https://localhost:8080/"
        }
      },
      "outputs": [
        {
          "output_type": "execute_result",
          "data": {
            "text/plain": [
              "(42000, 28, 28)"
            ]
          },
          "metadata": {},
          "execution_count": 4
        }
      ],
      "source": [
        "train_img.shape"
      ]
    },
    {
      "cell_type": "markdown",
      "metadata": {
        "id": "ACoXnc06JzCB"
      },
      "source": [
        "## Визуализируем исходные данные"
      ]
    },
    {
      "cell_type": "code",
      "execution_count": 5,
      "metadata": {
        "id": "ZOQ7nKE1JzCC",
        "outputId": "656b024f-a729-45ed-a06a-67a1276cc1fd",
        "colab": {
          "base_uri": "https://localhost:8080/",
          "height": 265
        }
      },
      "outputs": [
        {
          "output_type": "display_data",
          "data": {
            "text/plain": [
              "<Figure size 2000x1000 with 5 Axes>"
            ],
            "image/png": "[encoded data removed]"
          },
          "metadata": {}
        }
      ],
      "source": [
        "fig = plt.figure(figsize=(20, 10))\n",
        "for i, img in enumerate(train_img[0:5], 1):\n",
        "    subplot = fig.add_subplot(1, 7, i)\n",
        "    plt.imshow(img, cmap='gray');\n",
        "    subplot.set_title('%s' % train_label[i - 1]);"
      ]
    },
    {
      "cell_type": "markdown",
      "metadata": {
        "id": "BWxckJZywaCz"
      },
      "source": [
        "## Задаем параметры для вычисления дескриптора"
      ]
    },
    {
      "cell_type": "code",
      "execution_count": 24,
      "metadata": {
        "id": "mn7u68XvwaCz"
      },
      "outputs": [],
      "source": [
        "winSize = (28,28)\n",
        "blockSize = (14,14)\n",
        "blockStride = (14,14)\n",
        "cellSize = (7,7)\n",
        "nbins = 9\n",
        "derivAperture = 1\n",
        "winSigma = 4.\n",
        "histogramNormType = 0\n",
        "L2HysThreshold = 2.0000000000000001e-01\n",
        "gammaCorrection = 0\n",
        "nlevels = 64\n",
        "\n",
        "hog = cv2.HOGDescriptor(winSize,\n",
        "                        blockSize,\n",
        "                        blockStride,\n",
        "                        cellSize,\n",
        "                        nbins,\n",
        "                        derivAperture,\n",
        "                        winSigma,\n",
        "                        histogramNormType,\n",
        "                        L2HysThreshold,\n",
        "                        gammaCorrection,\n",
        "                        nlevels)"
      ]
    },
    {
      "cell_type": "markdown",
      "metadata": {
        "id": "e7B1_XQrwaCz"
      },
      "source": [
        "## Вычисляем дескриптор для изображений"
      ]
    },
    {
      "cell_type": "code",
      "execution_count": 41,
      "metadata": {
        "id": "V92FLIhpwaC0"
      },
      "outputs": [],
      "source": [
        "train_descriptors = []\n",
        "for i in range(len(train_img)):\n",
        "  train_descriptor = hog.compute(np.uint8(train_img[i]))\n",
        "  train_descriptors.append(train_descriptor)\n",
        "\n",
        "train_descriptors = np.array(train_descriptors)"
      ]
    },
    {
      "cell_type": "code",
      "execution_count": 46,
      "metadata": {
        "id": "XxGsWIt6waC0",
        "colab": {
          "base_uri": "https://localhost:8080/",
          "height": 540
        },
        "outputId": "b9760a56-30fa-4edd-82d1-3993365c028b"
      },
      "outputs": [
        {
          "output_type": "display_data",
          "data": {
            "text/plain": [
              "<Figure size 640x480 with 1 Axes>"
            ],
            "image/png": "[encoded data removed]"
          },
          "metadata": {}
        }
      ],
      "source": [
        "from matplotlib import pyplot as plt\n",
        "\n",
        "fig = plt.figure()\n",
        "ax = fig.add_axes([0,0,1,1])\n",
        "ax.bar(range(len(train_descriptors[1])), train_descriptors[1].reshape(-1))\n",
        "plt.show()"
      ]
    },
    {
      "cell_type": "markdown",
      "metadata": {
        "id": "cbElLzpMJzCL"
      },
      "source": [
        "## Разбиваем выборку на обучение и валидацию"
      ]
    },
    {
      "cell_type": "code",
      "execution_count": 47,
      "metadata": {
        "collapsed": true,
        "id": "TzXWCDjbJzCL"
      },
      "outputs": [],
      "source": [
        "from sklearn.model_selection import train_test_split\n",
        "y_train, y_val, x_train, x_val = train_test_split(\n",
        "    train_label, train_descriptors, test_size=0.2,\n",
        "    random_state=52)"
      ]
    },
    {
      "cell_type": "markdown",
      "source": [
        "## Создаем модель для предсказаний"
      ],
      "metadata": {
        "id": "yVYbg3Axm7wZ"
      }
    },
    {
      "cell_type": "code",
      "source": [
        "# Используем метод опорных векторов (SVM) для классификации\n",
        "from sklearn import svm\n",
        "classifier = svm.SVC(gamma=0.001)\n",
        "classifier.fit(x_train, y_train)"
      ],
      "metadata": {
        "colab": {
          "base_uri": "https://localhost:8080/",
          "height": 74
        },
        "id": "-6-NkpH0puMs",
        "outputId": "8b7d5cd2-d9e4-4f38-8186-dd6ef429b176"
      },
      "execution_count": 48,
      "outputs": [
        {
          "output_type": "execute_result",
          "data": {
            "text/plain": [
              "SVC(gamma=0.001)"
            ],
            "text/html": [
              "<style>#sk-container-id-2 {color: black;}#sk-container-id-2 pre{padding: 0;}#sk-container-id-2 div.sk-toggleable {background-color: white;}#sk-container-id-2 label.sk-toggleable__label {cursor: pointer;display: block;width: 100%;margin-bottom: 0;padding: 0.3em;box-sizing: border-box;text-align: center;}#sk-container-id-2 label.sk-toggleable__label-arrow:before {content: \"▸\";float: left;margin-right: 0.25em;color: #696969;}#sk-container-id-2 label.sk-toggleable__label-arrow:hover:before {color: black;}#sk-container-id-2 div.sk-estimator:hover label.sk-toggleable__label-arrow:before {color: black;}#sk-container-id-2 div.sk-toggleable__content {max-height: 0;max-width: 0;overflow: hidden;text-align: left;background-color: #f0f8ff;}#sk-container-id-2 div.sk-toggleable__content pre {margin: 0.2em;color: black;border-radius: 0.25em;background-color: #f0f8ff;}#sk-container-id-2 input.sk-toggleable__control:checked~div.sk-toggleable__content {max-height: 200px;max-width: 100%;overflow: auto;}#sk-container-id-2 input.sk-toggleable__control:checked~label.sk-toggleable__label-arrow:before {content: \"▾\";}#sk-container-id-2 div.sk-estimator input.sk-toggleable__control:checked~label.sk-toggleable__label {background-color: #d4ebff;}#sk-container-id-2 div.sk-label input.sk-toggleable__control:checked~label.sk-toggleable__label {background-color: #d4ebff;}#sk-container-id-2 input.sk-hidden--visually {border: 0;clip: rect(1px 1px 1px 1px);clip: rect(1px, 1px, 1px, 1px);height: 1px;margin: -1px;overflow: hidden;padding: 0;position: absolute;width: 1px;}#sk-container-id-2 div.sk-estimator {font-family: monospace;background-color: #f0f8ff;border: 1px dotted black;border-radius: 0.25em;box-sizing: border-box;margin-bottom: 0.5em;}#sk-container-id-2 div.sk-estimator:hover {background-color: #d4ebff;}#sk-container-id-2 div.sk-parallel-item::after {content: \"\";width: 100%;border-bottom: 1px solid gray;flex-grow: 1;}#sk-container-id-2 div.sk-label:hover label.sk-toggleable__label {background-color: #d4ebff;}#sk-container-id-2 div.sk-serial::before {content: \"\";position: absolute;border-left: 1px solid gray;box-sizing: border-box;top: 0;bottom: 0;left: 50%;z-index: 0;}#sk-container-id-2 div.sk-serial {display: flex;flex-direction: column;align-items: center;background-color: white;padding-right: 0.2em;padding-left: 0.2em;position: relative;}#sk-container-id-2 div.sk-item {position: relative;z-index: 1;}#sk-container-id-2 div.sk-parallel {display: flex;align-items: stretch;justify-content: center;background-color: white;position: relative;}#sk-container-id-2 div.sk-item::before, #sk-container-id-2 div.sk-parallel-item::before {content: \"\";position: absolute;border-left: 1px solid gray;box-sizing: border-box;top: 0;bottom: 0;left: 50%;z-index: -1;}#sk-container-id-2 div.sk-parallel-item {display: flex;flex-direction: column;z-index: 1;position: relative;background-color: white;}#sk-container-id-2 div.sk-parallel-item:first-child::after {align-self: flex-end;width: 50%;}#sk-container-id-2 div.sk-parallel-item:last-child::after {align-self: flex-start;width: 50%;}#sk-container-id-2 div.sk-parallel-item:only-child::after {width: 0;}#sk-container-id-2 div.sk-dashed-wrapped {border: 1px dashed gray;margin: 0 0.4em 0.5em 0.4em;box-sizing: border-box;padding-bottom: 0.4em;background-color: white;}#sk-container-id-2 div.sk-label label {font-family: monospace;font-weight: bold;display: inline-block;line-height: 1.2em;}#sk-container-id-2 div.sk-label-container {text-align: center;}#sk-container-id-2 div.sk-container {/* jupyter's `normalize.less` sets `[hidden] { display: none; }` but bootstrap.min.css set `[hidden] { display: none !important; }` so we also need the `!important` here to be able to override the default hidden behavior on the sphinx rendered scikit-learn.org. See: https://github.com/scikit-learn/scikit-learn/issues/21755 */display: inline-block !important;position: relative;}#sk-container-id-2 div.sk-text-repr-fallback {display: none;}</style><div id=\"sk-container-id-2\" class=\"sk-top-container\"><div class=\"sk-text-repr-fallback\"><pre>SVC(gamma=0.001)</pre><b>In a Jupyter environment, please rerun this cell to show the HTML representation or trust the notebook. <br />On GitHub, the HTML representation is unable to render, please try loading this page with nbviewer.org.</b></div><div class=\"sk-container\" hidden><div class=\"sk-item\"><div class=\"sk-estimator sk-toggleable\"><input class=\"sk-toggleable__control sk-hidden--visually\" id=\"sk-estimator-id-2\" type=\"checkbox\" checked><label for=\"sk-estimator-id-2\" class=\"sk-toggleable__label sk-toggleable__label-arrow\">SVC</label><div class=\"sk-toggleable__content\"><pre>SVC(gamma=0.001)</pre></div></div></div></div></div>"
            ]
          },
          "metadata": {},
          "execution_count": 48
        }
      ]
    },
    {
      "cell_type": "code",
      "source": [
        "# Предсказание на валидационной выборке\n",
        "pred_test = classifier.predict(x_val)"
      ],
      "metadata": {
        "id": "As-vBI_GpxsN"
      },
      "execution_count": 63,
      "outputs": []
    },
    {
      "cell_type": "markdown",
      "metadata": {
        "id": "2mIiUkFmJzCO"
      },
      "source": [
        "## Оцениваем качество решения на валидационной выборке"
      ]
    },
    {
      "cell_type": "code",
      "execution_count": 64,
      "metadata": {
        "id": "B9Q8u3ZbJzCO",
        "outputId": "2ec8f8b4-46ae-4fd2-c97d-dec2d33c48be",
        "colab": {
          "base_uri": "https://localhost:8080/"
        }
      },
      "outputs": [
        {
          "output_type": "stream",
          "name": "stdout",
          "text": [
            "Accuracy: 0.9265476190476191\n"
          ]
        }
      ],
      "source": [
        "from sklearn.metrics import accuracy_score\n",
        "print('Accuracy: %s' % accuracy_score(y_val, pred_test))"
      ]
    },
    {
      "cell_type": "code",
      "execution_count": 65,
      "metadata": {
        "id": "7RmYe0pkJzCP",
        "outputId": "960114b7-fe12-4ce0-9ae6-eb153b4a20e7",
        "colab": {
          "base_uri": "https://localhost:8080/"
        }
      },
      "outputs": [
        {
          "output_type": "stream",
          "name": "stdout",
          "text": [
            "              precision    recall  f1-score   support\n",
            "\n",
            "         0.0       0.94      0.98      0.96       856\n",
            "         1.0       0.95      0.97      0.96       916\n",
            "         2.0       0.92      0.94      0.93       806\n",
            "         3.0       0.91      0.94      0.92       901\n",
            "         4.0       0.95      0.92      0.93       827\n",
            "         5.0       0.94      0.89      0.92       742\n",
            "         6.0       0.95      0.97      0.96       816\n",
            "         7.0       0.91      0.89      0.90       884\n",
            "         8.0       0.91      0.88      0.89       830\n",
            "         9.0       0.88      0.89      0.88       822\n",
            "\n",
            "    accuracy                           0.93      8400\n",
            "   macro avg       0.93      0.93      0.93      8400\n",
            "weighted avg       0.93      0.93      0.93      8400\n",
            "\n"
          ]
        }
      ],
      "source": [
        "from sklearn.metrics import classification_report\n",
        "print(classification_report(y_val, pred_test))"
      ]
    },
    {
      "cell_type": "code",
      "execution_count": 66,
      "metadata": {
        "id": "pcYbRkHiJzCQ",
        "outputId": "ee3f1dcb-565c-4a98-c646-63161d80cbc9",
        "colab": {
          "base_uri": "https://localhost:8080/"
        }
      },
      "outputs": [
        {
          "output_type": "stream",
          "name": "stdout",
          "text": [
            "[[841   4   0   1   0   1   6   0   3   0]\n",
            " [  0 887  14   3   4   0   0   5   3   0]\n",
            " [  4   2 754  17   6   0   1   7  14   1]\n",
            " [  3   0  11 845   0  13   0   8  17   4]\n",
            " [  1  15   5   0 763   0   5   2   2  34]\n",
            " [  9   0   1  34   0 660  17   1  18   2]\n",
            " [  7   6   1   0   2   7 790   0   3   0]\n",
            " [  0   4  17   7  16   0   0 783   5  52]\n",
            " [ 22  10  17   7   6  16   8   6 732   6]\n",
            " [  6   4   0  14   9   3   1  47  10 728]]\n"
          ]
        }
      ],
      "source": [
        "from sklearn.metrics import confusion_matrix\n",
        "print(confusion_matrix(y_val, pred_test))"
      ]
    },
    {
      "cell_type": "markdown",
      "source": [
        "## Предсказания для тестовых данных"
      ],
      "metadata": {
        "id": "vjCmwFovLCn8"
      }
    },
    {
      "cell_type": "code",
      "source": [
        "test_descriptors = []\n",
        "for i in range(len(test_img)):\n",
        "  test_descriptor = hog.compute(np.uint8(test_img[i]))\n",
        "  test_descriptors.append(test_descriptor)\n",
        "\n",
        "test_descriptors = np.array(test_descriptors)"
      ],
      "metadata": {
        "id": "r0qaQKb3BoLL"
      },
      "execution_count": 44,
      "outputs": []
    },
    {
      "cell_type": "code",
      "source": [
        "predicted = classifier.predict(test_descriptors)"
      ],
      "metadata": {
        "id": "e1a7MBqULwck"
      },
      "execution_count": 75,
      "outputs": []
    },
    {
      "cell_type": "markdown",
      "metadata": {
        "id": "B1UHNCBJJzCS"
      },
      "source": [
        "## Визуализируем предсказания"
      ]
    },
    {
      "cell_type": "code",
      "execution_count": 76,
      "metadata": {
        "id": "n2avMesrJzCS",
        "outputId": "b2eb70c6-a036-4ed5-9e92-f29914664bbb",
        "colab": {
          "base_uri": "https://localhost:8080/",
          "height": 265
        }
      },
      "outputs": [
        {
          "output_type": "display_data",
          "data": {
            "text/plain": [
              "<Figure size 2000x1000 with 5 Axes>"
            ],
            "image/png": "[encoded data removed]"
          },
          "metadata": {}
        }
      ],
      "source": [
        "fig = plt.figure(figsize=(20, 10))\n",
        "for i, img in enumerate(test_img[0:5], 1):\n",
        "    subplot = fig.add_subplot(1, 7, i)\n",
        "    plt.imshow(img, cmap='gray');\n",
        "    subplot.set_title('%s' % predicted[i - 1]);"
      ]
    },
    {
      "cell_type": "markdown",
      "metadata": {
        "id": "cp-9c2qaJzCT"
      },
      "source": [
        "## Готовим файл для отправки"
      ]
    },
    {
      "cell_type": "code",
      "execution_count": 79,
      "metadata": {
        "collapsed": true,
        "id": "KwI70yX7JzCT"
      },
      "outputs": [],
      "source": [
        "with open('submit.csv', 'w') as dst:\n",
        "    dst.write('ImageId,Label\\n')\n",
        "    for i, p in enumerate(predicted, 1):\n",
        "        dst.write('%s,%s\\n' % (i, int(p)))"
      ]
    },
    {
      "cell_type": "code",
      "execution_count": 80,
      "metadata": {
        "id": "BMIlynIfJzCU",
        "colab": {
          "base_uri": "https://localhost:8080/"
        },
        "outputId": "26ee5896-3faf-4525-afce-168592e05db5"
      },
      "outputs": [
        {
          "output_type": "stream",
          "name": "stdout",
          "text": [
            "ImageId,Label\n",
            "1,2\n",
            "2,0\n",
            "3,9\n",
            "4,0\n",
            "5,3\n",
            "6,7\n",
            "7,0\n",
            "8,3\n",
            "9,0\n"
          ]
        }
      ],
      "source": [
        "!head submit.csv"
      ]
    }
  ],
  "metadata": {
    "kernelspec": {
      "display_name": "Python 3",
      "language": "python",
      "name": "python3"
    },
    "language_info": {
      "codemirror_mode": {
        "name": "ipython",
        "version": 3
      },
      "file_extension": ".py",
      "mimetype": "text/x-python",
      "name": "python",
      "nbconvert_exporter": "python",
      "pygments_lexer": "ipython3",
      "version": "3.6.4"
    },
    "colab": {
      "provenance": []
    }
  },
  "nbformat": 4,
  "nbformat_minor": 0
}